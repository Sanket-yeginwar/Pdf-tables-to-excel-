{
 "cells": [
  {
   "cell_type": "code",
   "execution_count": 41,
   "metadata": {},
   "outputs": [],
   "source": [
    "import tabula as ta \n",
    "import pandas as pd \n",
    "import pdfplumber  "
   ]
  },
  {
   "cell_type": "code",
   "execution_count": 49,
   "metadata": {},
   "outputs": [
    {
     "name": "stdout",
     "output_type": "stream",
     "text": [
      "Enter the path of Pdf FilePolstrat assignment- AC103.PDF\n"
     ]
    }
   ],
   "source": [
    "def pdftoexcel(path,no):\n",
    "    \n",
    "    \n",
    "    with pdfplumber.open(path) as pdf1:\n",
    "        first_page = pdf1.pages[0]\n",
    "        li=list(first_page.extract_text())\n",
    "        listToStr = ''.join(map(str, li))\n",
    "        lis=listToStr.splitlines()\n",
    "        lis=lis[0:2] \n",
    "        \n",
    "        \n",
    "    \n",
    "    \n",
    "    pdf=pd.DataFrame()\n",
    "    for i in range(no):\n",
    "        df2=pd.DataFrame()\n",
    "        df2=ta.read_pdf(path,pages=i+1,lattice=True)[0]\n",
    "        df2.columns = df2.columns.str.replace('\\r', ' ')\n",
    "        df2.iloc[0,0:]=df2.iloc[0,0:].str.replace('\\r', ' ')\n",
    "        df2.iloc[0,0]=df2.columns[0]\n",
    "        df2.iloc[0,1]=df2.columns[1]\n",
    "        df2.iloc[0,-4]=df2.columns[3]\n",
    "        df2.iloc[0,-3]=df2.columns[4]\n",
    "        df2.iloc[0,-2]=df2.columns[5]\n",
    "        df2.iloc[0,-1]=df2.columns[6]\n",
    "        df2.columns=df2.iloc[0,:]\n",
    "        df2.drop([0,1],inplace=True)\n",
    "        pdf=pd.concat([pdf,df2],axis=0)\n",
    "\n",
    "        pdf[lis[0].split(\"    \")[0]]=lis[0].split(\"    \")[1] \n",
    "        pdf[lis[1].split(\" - \")[0]]=lis[1].split(\" - \")[1]\n",
    "        \n",
    "    pdf.index=pdf['Sr.No. of Polling station']\n",
    "    pdf.drop('Sr.No. of Polling station',axis=1,inplace=True)\n",
    "    pdf.to_excel('data.xlsx')\n",
    "    return\n",
    "path=input(\"Enter the path of Pdf File\")\n",
    "no=int(input(\"Enter the no. of pages\"))\n",
    "pdftoexcel(path)"
   ]
  },
  {
   "cell_type": "code",
   "execution_count": null,
   "metadata": {},
   "outputs": [],
   "source": []
  }
 ],
 "metadata": {
  "kernelspec": {
   "display_name": "Python 3",
   "language": "python",
   "name": "python3"
  },
  "language_info": {
   "codemirror_mode": {
    "name": "ipython",
    "version": 3
   },
   "file_extension": ".py",
   "mimetype": "text/x-python",
   "name": "python",
   "nbconvert_exporter": "python",
   "pygments_lexer": "ipython3",
   "version": "3.7.7"
  }
 },
 "nbformat": 4,
 "nbformat_minor": 4
}
